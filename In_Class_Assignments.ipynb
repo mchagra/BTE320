{
  "nbformat": 4,
  "nbformat_minor": 0,
  "metadata": {
    "colab": {
      "provenance": [],
      "authorship_tag": "ABX9TyNHEOEtdwEtEdGTgrnp66IG",
      "include_colab_link": true
    },
    "kernelspec": {
      "name": "python3",
      "display_name": "Python 3"
    },
    "language_info": {
      "name": "python"
    }
  },
  "cells": [
    {
      "cell_type": "markdown",
      "metadata": {
        "id": "view-in-github",
        "colab_type": "text"
      },
      "source": [
        "<a href=\"https://colab.research.google.com/github/mchagra/BTE320/blob/main/In_Class_Assignments.ipynb\" target=\"_parent\"><img src=\"https://colab.research.google.com/assets/colab-badge.svg\" alt=\"Open In Colab\"/></a>"
      ]
    },
    {
      "cell_type": "code",
      "source": [
        "r = 5\n",
        "π = 3.14\n",
        "\n",
        "area = π*(r**2)\n",
        "print(area)"
      ],
      "metadata": {
        "id": "xr1Bx4kW0yt0",
        "outputId": "51866fdf-a682-404b-f1b4-55379b3cee30",
        "colab": {
          "base_uri": "https://localhost:8080/"
        }
      },
      "execution_count": null,
      "outputs": [
        {
          "output_type": "stream",
          "name": "stdout",
          "text": [
            "78.5\n"
          ]
        }
      ]
    },
    {
      "cell_type": "code",
      "execution_count": null,
      "metadata": {
        "colab": {
          "base_uri": "https://localhost:8080/"
        },
        "id": "XXehkM0Zyk42",
        "outputId": "f22605d3-0fb8-40ef-9382-61ebc4ff74d2"
      },
      "outputs": [
        {
          "output_type": "stream",
          "name": "stdout",
          "text": [
            "244.92000000000002\n"
          ]
        }
      ],
      "source": [
        "π = 3.14\n",
        "r = 3\n",
        "h = 10\n",
        "\n",
        "area = 2*π*r**2 + 2*π*r*h\n",
        "print(area)\n"
      ]
    },
    {
      "cell_type": "code",
      "source": [
        "p1 = input(\"Choose r, p, s\")\n",
        "p2 = input(\"Choose r, p, s\")\n",
        "\n",
        "if p1 = p2\n",
        "  print ('Draw')\n",
        "else(p1 = 'r' and p2 = 's') or (p1 = 's' and p2 = 'p') or (p1 = 'p' and p2 = 'r')\n",
        "  print ('p1 wins')\n",
        "else\n",
        "  print ('p2 wins')"
      ],
      "metadata": {
        "id": "knu5N9Rp1dj_"
      },
      "execution_count": null,
      "outputs": []
    },
    {
      "cell_type": "code",
      "source": [
        "#if we want to do the same as above but one player is the computer choosing randomly\n",
        "import random\n",
        "p1 = input(\"Choose r, p, s\")\n",
        "p2 = random.choice(['r', 'p', 's'])\n",
        "\n",
        "if p1 == p2:\n",
        "  print ('Draw')\n",
        "elif (p1 == 'r' and p2 == 's') or (p1 == 's' and p2 == 'p') or (p1 == 'p' and p2 == 'r'):\n",
        "  print ('p1 wins')\n",
        "else:\n",
        "  print ('p2 wins')"
      ],
      "metadata": {
        "colab": {
          "base_uri": "https://localhost:8080/"
        },
        "id": "wpvusKRU4UFx",
        "outputId": "215ae863-c329-4114-c1f5-82a39290d0ff"
      },
      "execution_count": null,
      "outputs": [
        {
          "output_type": "stream",
          "name": "stdout",
          "text": [
            "Choose r, p, ss\n",
            "p2 wins\n"
          ]
        }
      ]
    },
    {
      "cell_type": "code",
      "source": [
        "# a calculator\n",
        "\n",
        "n1 = float(input('Enter first number'))\n",
        "n2 = float(input('Enter second number'))\n",
        "Symbol = input('Choose operation /, //, *, -, +, **')\n",
        "\n",
        "if Symbol == '/':\n",
        "  print(n1/n2)\n",
        "elif (Symbol == '//'):\n",
        "  print(n1//n2)\n",
        "elif (Symbol == '*'):\n",
        "  print(n1*n2)\n",
        "elif (Symbol == '-'):\n",
        "  print(n1-n2)\n",
        "elif (Symbol == '+'):\n",
        "  print(n1+n2)\n",
        "elif (Symbol == '**'):\n",
        "  print(n1**n2)\n",
        "else:\n",
        "  print ('invalid op')\n",
        "\n",
        "\n",
        "#calculator = {\n",
        "#   '/': n1/n2,\n",
        "#   '//': n1//n2,\n",
        "#   '*': n1*n2,\n",
        "#}"
      ],
      "metadata": {
        "id": "iLQGCibe9J2m"
      },
      "execution_count": null,
      "outputs": []
    },
    {
      "cell_type": "code",
      "source": [
        "grade = 98\n",
        "\n",
        "if grade > 96:\n",
        "  print('A+')\n",
        "\n",
        "if grade > 93:\n",
        "  print('A')"
      ],
      "metadata": {
        "id": "OwVbL-_v9lu2"
      },
      "execution_count": null,
      "outputs": []
    },
    {
      "cell_type": "code",
      "source": [
        "grade = 90\n",
        "\n",
        "if grade > 96:\n",
        "  print('A')\n",
        "\n",
        "if grade > 85:\n",
        "  print('B')"
      ],
      "metadata": {
        "id": "ki1fGICdKYUI"
      },
      "execution_count": null,
      "outputs": []
    },
    {
      "cell_type": "code",
      "source": [
        "pi = 3.14\n",
        "r = 5 #radius\n",
        "c = 10 #side of square\n",
        "h = 8 #height of cylinder\n",
        "shape = \"square\"\n",
        "\n",
        "if shape == \"circle\":\n",
        "  area = pi*(r**2)\n",
        "  print(area)\n",
        "else:\n",
        "  print(f'The program does not support shape: {shape}')\n",
        "\n",
        "print ('Program ends...')"
      ],
      "metadata": {
        "colab": {
          "base_uri": "https://localhost:8080/"
        },
        "id": "2jCV9qiJLhjz",
        "outputId": "2b1b61b1-16a2-45cd-f030-01c151de4508"
      },
      "execution_count": 3,
      "outputs": [
        {
          "output_type": "stream",
          "name": "stdout",
          "text": [
            "The program does not support shape: square\n",
            "Program ends...\n"
          ]
        }
      ]
    },
    {
      "cell_type": "code",
      "source": [
        "pi = 3.14\n",
        "r = 5 #radius\n",
        "c = 10 #side of square\n",
        "h = 8 #height of cylinder\n",
        "shape = \"square\"\n",
        "\n",
        "if shape == \"circle\":\n",
        "  area = pi*(r**2)\n",
        "elif shape == \"square\":\n",
        "  area = c**2\n",
        "elif shape == \"cylinder\":\n",
        "  area = 2 * pi * r * h + 2 * pi * r ** 2\n",
        "elif shape == \"traingle\":\n",
        "  area = .5 * c * h\n",
        "else:\n",
        "  area = .5 * c * h\n",
        "print(area)\n",
        "\n",
        "print('Program ends...')"
      ],
      "metadata": {
        "colab": {
          "base_uri": "https://localhost:8080/"
        },
        "id": "hWXA1y4gMaVl",
        "outputId": "49b7e87b-12eb-4f4c-e57a-7b2a657485ca"
      },
      "execution_count": 5,
      "outputs": [
        {
          "output_type": "stream",
          "name": "stdout",
          "text": [
            "100\n",
            "Program ends...\n"
          ]
        }
      ]
    },
    {
      "cell_type": "code",
      "source": [
        "''' Write a program that calculates the returns on different levels of initial investment, shown below:\n",
        "      - initial investment < = 1,000$ with interest of 3.0%\n",
        "      - initial investment < = 10,000$ with interest of 3.25%\n",
        "      - initial investment > 10,000$ with interest of 3.5%\n",
        "'''\n",
        "#Input\n",
        "init_investment = float(input('Provide initial investment ($):'))\n",
        "n_years = int(input('Number of years for investment: '))\n",
        "\n",
        "#Processes\n",
        "if init_investment <= 1000:\n",
        "  return_investment = 1.03 ** n_years * init_investment #3% interest\n",
        "elif init_investment <= 10000:\n",
        "  return_investment = 1.0325 ** n_years * init_investment #3.25% interest\n",
        "elif init_investment > 10000:\n",
        "  return_investment = 1.035 ** n_years * init_investment #3.5% interest\n",
        "\n",
        "#Output\n",
        "print(return_investment)"
      ],
      "metadata": {
        "colab": {
          "base_uri": "https://localhost:8080/"
        },
        "id": "Be7C5TywQiXT",
        "outputId": "5d2b163b-c9d4-49a3-a17b-f5bf4acfe7ce"
      },
      "execution_count": 9,
      "outputs": [
        {
          "output_type": "stream",
          "name": "stdout",
          "text": [
            "Provide initial investment ($):1000\n",
            "Number of years for investment: 7\n",
            "1229.8738654248702\n"
          ]
        }
      ]
    },
    {
      "cell_type": "code",
      "source": [
        "''' Write a program that calculates the returns on different levels and whether the client is new or existing, shown below:\n",
        "      - initial investment < = 1,000$ and existing customer: interest rate 3.25%\n",
        "      - initial investment < = 10,000$ and existing customer: interest rate 3.5%\n",
        "      - Regardless of investment amount, if the client is new: interest rate 3%\n",
        "'''\n",
        "init_investment = float(input('Provide initial investment ($): ')) #this is a compound boolean expression (has less chance of making mistake than nested)\n",
        "customer_type = input('Enter type of customer (new/existing): ')\n",
        "age = 25\n",
        "\n",
        "if init_investment <= 1000 and customer_type == 'existing' or age > 27:\n",
        "  ir = 0.0325\n",
        "  ret = (i +ir) * init_investment\n",
        "elif init_investment <= 10000 and customer_type == 'existing':\n",
        "  ir = 0.35\n",
        "  ret = (1 + ir) * init_investment\n",
        "elif customer_type == 'new':\n",
        "  ret = 1.03 * init_investment\n",
        "\n",
        "print(ret)\n"
      ],
      "metadata": {
        "colab": {
          "base_uri": "https://localhost:8080/"
        },
        "id": "UBuMXzdwS7YM",
        "outputId": "c6f3e42a-78be-4a2b-de08-b28338272e37"
      },
      "execution_count": 13,
      "outputs": [
        {
          "output_type": "stream",
          "name": "stdout",
          "text": [
            "Provide initial investment ($): 4000\n",
            "Enter type of customer (new/existing): existing\n",
            "5400.0\n"
          ]
        }
      ]
    },
    {
      "cell_type": "code",
      "source": [
        "#Movie Theater - Initial Problem\n",
        "t = 10 #ticket price\n",
        "p = 20 #ppl expected to attend without advertisement\n",
        "fc = 200 #fixed cost\n",
        "\n",
        "for ad in range(0,201,25):\n",
        "  profit = t * (p + 2*round(ad**0.5)) - 200 - ad\n",
        "  print(ad, profit)\n"
      ],
      "metadata": {
        "colab": {
          "base_uri": "https://localhost:8080/"
        },
        "id": "G_HOQdtfMyOU",
        "outputId": "67c226e8-4f87-407e-bc01-e5f83de75371"
      },
      "execution_count": 8,
      "outputs": [
        {
          "output_type": "stream",
          "name": "stdout",
          "text": [
            "0 0\n",
            "25 75\n",
            "50 90\n",
            "75 105\n",
            "100 100\n",
            "125 95\n",
            "150 90\n",
            "175 85\n",
            "200 80\n"
          ]
        }
      ]
    },
    {
      "cell_type": "code",
      "source": [
        "#Movie Theater using while loop\n",
        "t = 10 #ticket price\n",
        "p = 20 #ppl expected to attend without advertisement\n",
        "fc = 200 #fixed cost\n",
        "\n",
        "ad = 0\n",
        "while ad < 201:\n",
        "  profit = 10 * (p + 2 * round(ad ** 0.5)) - fc - ad\n",
        "  ad = ad + 25\n",
        "  print(ad, profit)\n"
      ],
      "metadata": {
        "colab": {
          "base_uri": "https://localhost:8080/"
        },
        "id": "bKHRqRzaR5lZ",
        "outputId": "07b403fb-6c1a-42cf-c289-74780c3d73d1"
      },
      "execution_count": 10,
      "outputs": [
        {
          "output_type": "stream",
          "name": "stdout",
          "text": [
            "25 0\n",
            "50 75\n",
            "75 90\n",
            "100 105\n",
            "125 100\n",
            "150 95\n",
            "175 90\n",
            "200 85\n",
            "225 80\n"
          ]
        }
      ]
    }
  ]
}