{
  "cells": [
    {
      "cell_type": "markdown",
      "metadata": {
        "id": "view-in-github",
        "colab_type": "text"
      },
      "source": [
        "<a href=\"https://colab.research.google.com/github/mchagra/BTE320/blob/main/In_Class_Assignments.ipynb\" target=\"_parent\"><img src=\"https://colab.research.google.com/assets/colab-badge.svg\" alt=\"Open In Colab\"/></a>"
      ]
    },
    {
      "cell_type": "code",
      "execution_count": null,
      "metadata": {
        "colab": {
          "base_uri": "https://localhost:8080/"
        },
        "id": "hWXA1y4gMaVl",
        "outputId": "d3aa75dc-b562-42af-ae27-ce9a49b10b29"
      },
      "outputs": [
        {
          "output_type": "stream",
          "name": "stdout",
          "text": [
            "Shape: circle\n",
            "78.5\n",
            "Program ends...\n"
          ]
        }
      ],
      "source": [
        "#Shape Area Calculator\n",
        "pi = 3.14\n",
        "r = 5 #radius\n",
        "c = 10 #side of square\n",
        "h = 8 #height of cylinder\n",
        "shape = input(\"Shape: \")\n",
        "\n",
        "if shape == \"circle\":\n",
        "  area = pi*(r**2)\n",
        "elif shape == \"square\":\n",
        "  area = c**2\n",
        "elif shape == \"cylinder\":\n",
        "  area = 2 * pi * r * h + 2 * pi * r ** 2\n",
        "elif shape == \"traingle\":\n",
        "  area = .5 * c * h\n",
        "else:\n",
        "  area = .5 * c * h\n",
        "print(area)\n",
        "\n",
        "print('Program ends...')"
      ]
    },
    {
      "cell_type": "code",
      "source": [
        "#Rock Paper Scissors with While loop\n",
        "import random\n",
        "\n",
        "while True:\n",
        "  p1 = input(\"Choose r, p, s: \").lower()\n",
        "  p2 = random.choice(['r', 'p', 's'])\n",
        "\n",
        "  while p1 != p2:\n",
        "     if (p1 == 'r' and p2 == 's') or (p1 == 's' and p2 == 'p') or (p1 == 'p' and p2 == 'r'):\n",
        "        print('p1 wins')\n",
        "     else:\n",
        "        print('p2 wins')\n",
        "     break\n",
        "\n",
        "  if p1 == p2:\n",
        "      print('Draw')\n",
        "      break"
      ],
      "metadata": {
        "colab": {
          "base_uri": "https://localhost:8080/"
        },
        "id": "uGVak0ro0bb4",
        "outputId": "0ef2239c-9fe4-4134-f255-bc4f64ba6b00"
      },
      "execution_count": null,
      "outputs": [
        {
          "output_type": "stream",
          "name": "stdout",
          "text": [
            "Choose r, p, s: p\n",
            "p1 wins\n",
            "Choose r, p, s: s\n",
            "Draw\n"
          ]
        }
      ]
    },
    {
      "cell_type": "code",
      "execution_count": null,
      "metadata": {
        "id": "knu5N9Rp1dj_",
        "colab": {
          "base_uri": "https://localhost:8080/"
        },
        "outputId": "60438dcb-fcf1-41bd-a8ea-42cd49895ace"
      },
      "outputs": [
        {
          "output_type": "stream",
          "name": "stdout",
          "text": [
            "Choose r, p, s: p\n",
            "Choose r, p, s: s\n",
            "p2 wins\n"
          ]
        }
      ],
      "source": [
        "#Rock Paper Scissors\n",
        "p1 = input(\"Choose r, p, s: \" )\n",
        "p2 = input(\"Choose r, p, s: \" )\n",
        "\n",
        "if p1 == p2:\n",
        "  print ('Draw')\n",
        "elif(p1 == 'r' and p2 == 's') or (p1 == 's' and p2 == 'p') or (p1 == 'p' and p2 == 'r'):\n",
        "  print ('p1 wins')\n",
        "else:\n",
        "  print ('p2 wins')"
      ]
    },
    {
      "cell_type": "code",
      "execution_count": null,
      "metadata": {
        "colab": {
          "base_uri": "https://localhost:8080/"
        },
        "id": "wpvusKRU4UFx",
        "outputId": "dd63028d-6b3c-4fd0-ab6f-973edd9de601"
      },
      "outputs": [
        {
          "output_type": "stream",
          "name": "stdout",
          "text": [
            "Choose r, p, s: p\n",
            "Draw\n"
          ]
        }
      ],
      "source": [
        "#Rock Paper Scissors\n",
        "#if we want to do the same as above but one player is the computer choosing randomly\n",
        "import random\n",
        "p1 = input(\"Choose r, p, s: \")\n",
        "p2 = random.choice(['r', 'p', 's'])\n",
        "\n",
        "if p1 == p2:\n",
        "  print ('Draw')\n",
        "elif (p1 == 'r' and p2 == 's') or (p1 == 's' and p2 == 'p') or (p1 == 'p' and p2 == 'r'):\n",
        "  print ('p1 wins')\n",
        "else:\n",
        "  print ('p2 wins')"
      ]
    },
    {
      "cell_type": "code",
      "execution_count": null,
      "metadata": {
        "id": "iLQGCibe9J2m"
      },
      "outputs": [],
      "source": [
        "#Numerical Calculator\n",
        "\n",
        "n1 = float(input('Enter first number'))\n",
        "n2 = float(input('Enter second number'))\n",
        "Symbol = input('Choose operation /, //, *, -, +, **')\n",
        "\n",
        "if Symbol == '/':\n",
        "  print(n1/n2)\n",
        "elif (Symbol == '//'):\n",
        "  print(n1//n2)\n",
        "elif (Symbol == '*'):\n",
        "  print(n1*n2)\n",
        "elif (Symbol == '-'):\n",
        "  print(n1-n2)\n",
        "elif (Symbol == '+'):\n",
        "  print(n1+n2)\n",
        "elif (Symbol == '**'):\n",
        "  print(n1**n2)\n",
        "else:\n",
        "  print ('invalid op')\n",
        "\n",
        "\n",
        "#calculator = {\n",
        "#   '/': n1/n2,\n",
        "#   '//': n1//n2,\n",
        "#   '*': n1*n2,\n",
        "#}"
      ]
    },
    {
      "cell_type": "code",
      "execution_count": null,
      "metadata": {
        "colab": {
          "base_uri": "https://localhost:8080/"
        },
        "id": "G_HOQdtfMyOU",
        "outputId": "67c226e8-4f87-407e-bc01-e5f83de75371"
      },
      "outputs": [
        {
          "name": "stdout",
          "output_type": "stream",
          "text": [
            "0 0\n",
            "25 75\n",
            "50 90\n",
            "75 105\n",
            "100 100\n",
            "125 95\n",
            "150 90\n",
            "175 85\n",
            "200 80\n"
          ]
        }
      ],
      "source": [
        "#Movie Theater - Initial Problem\n",
        "t = 10 #ticket price\n",
        "p = 20 #ppl expected to attend without advertisement\n",
        "fc = 200 #fixed cost\n",
        "\n",
        "for ad in range(0,201,25):\n",
        "  profit = t * (p + 2*round(ad**0.5)) - 200 - ad\n",
        "  print(ad, profit)\n"
      ]
    },
    {
      "cell_type": "code",
      "execution_count": null,
      "metadata": {
        "colab": {
          "base_uri": "https://localhost:8080/"
        },
        "id": "bKHRqRzaR5lZ",
        "outputId": "07b403fb-6c1a-42cf-c289-74780c3d73d1"
      },
      "outputs": [
        {
          "name": "stdout",
          "output_type": "stream",
          "text": [
            "25 0\n",
            "50 75\n",
            "75 90\n",
            "100 105\n",
            "125 100\n",
            "150 95\n",
            "175 90\n",
            "200 85\n",
            "225 80\n"
          ]
        }
      ],
      "source": [
        "#Movie Theater using while loop\n",
        "t = 10 #ticket price\n",
        "p = 20 #ppl expected to attend without advertisement\n",
        "fc = 200 #fixed cost\n",
        "\n",
        "ad = 0\n",
        "while ad < 201:\n",
        "  profit = 10 * (p + 2 * round(ad ** 0.5)) - fc - ad\n",
        "  ad = ad + 25\n",
        "  print(ad, profit)\n"
      ]
    },
    {
      "cell_type": "code",
      "source": [
        "#Month Dictionary with 2 variables\n",
        "months = {}\n",
        "\n",
        "names = ['Jan','Feb','Mar','Apr','May','Jun','Jul','Aug','Sep','Oct','Nov','Dec']\n",
        "numbers = [1, 2, 3, 4, 5, 6, 7, 8, 9, 10, 11, 12]\n",
        "\n",
        "for i in range(len(numbers)):\n",
        "  months[numbers[i]] = names[i]\n",
        "\n",
        "print(months)\n",
        "\n",
        "for n in numbers:\n",
        "  months[n] = names[n-1]\n",
        "\n",
        "print(months)"
      ],
      "metadata": {
        "colab": {
          "base_uri": "https://localhost:8080/"
        },
        "id": "Bf8_FXL3FazZ",
        "outputId": "2868f952-01e1-41d0-8aeb-59f59c309808"
      },
      "execution_count": null,
      "outputs": [
        {
          "output_type": "stream",
          "name": "stdout",
          "text": [
            "{1: 'Jan', 2: 'Feb', 3: 'Mar', 4: 'Apr', 5: 'May', 6: 'Jun', 7: 'Jul', 8: 'Aug', 9: 'Sep', 10: 'Oct', 11: 'Nov', 12: 'Dec'}\n",
            "{1: 'Jan', 2: 'Feb', 3: 'Mar', 4: 'Apr', 5: 'May', 6: 'Jun', 7: 'Jul', 8: 'Aug', 9: 'Sep', 10: 'Oct', 11: 'Nov', 12: 'Dec'}\n"
          ]
        }
      ]
    },
    {
      "cell_type": "code",
      "source": [
        "#Parking Garage\n",
        "flatRate = 5\n",
        "hourlyRate = 2.5\n",
        "\n",
        "for h in range(1, 9):\n",
        "  charge = flatRate + hourlyRate * h\n",
        "  if charge < 10:\n",
        "    charge = 10\n",
        "  elif charge > 20:\n",
        "    charge = 20\n",
        "  print(h, charge)"
      ],
      "metadata": {
        "colab": {
          "base_uri": "https://localhost:8080/"
        },
        "id": "GUNqbotllXUk",
        "outputId": "a0b4c1c5-f7d9-4534-b133-99aa0ba1e8f1"
      },
      "execution_count": null,
      "outputs": [
        {
          "output_type": "stream",
          "name": "stdout",
          "text": [
            "1 10\n",
            "2 10.0\n",
            "3 12.5\n",
            "4 15.0\n",
            "5 17.5\n",
            "6 20.0\n",
            "7 20\n",
            "8 20\n"
          ]
        }
      ]
    },
    {
      "cell_type": "code",
      "source": [
        "h = 1\n",
        "\n",
        "while h < 9:\n",
        "  charge = flatRate + hourlyRate * h\n",
        "  if charge < 10:\n",
        "    charge = 10\n",
        "  elif charge > 20:\n",
        "    charge = 20\n",
        "  print(h, charge)\n",
        "\n",
        "  h = h + 1"
      ],
      "metadata": {
        "colab": {
          "base_uri": "https://localhost:8080/"
        },
        "id": "6AdjJkUVllZU",
        "outputId": "59df573f-7ab4-49f5-85ba-0cc62cdedddc"
      },
      "execution_count": null,
      "outputs": [
        {
          "output_type": "stream",
          "name": "stdout",
          "text": [
            "1 10\n",
            "2 10.0\n",
            "3 12.5\n",
            "4 15.0\n",
            "5 17.5\n",
            "6 20.0\n",
            "7 20\n",
            "8 20\n"
          ]
        }
      ]
    },
    {
      "cell_type": "code",
      "source": [
        "#Fee Calculation and Display\n",
        "def displayFee(fee):\n",
        "  print(fee)\n",
        "\n",
        "def calcFee(hours, decimals=2):\n",
        "  fee = 5 + hours * 2.5\n",
        "  fee = round(fee, decimals)\n",
        "  return fee\n",
        "\n",
        "if __name__ == \"__main__\":\n",
        "  h = int(input('Enter number of hours: '))\n",
        "  displayFee(calcFee(h))"
      ],
      "metadata": {
        "colab": {
          "base_uri": "https://localhost:8080/"
        },
        "id": "_t-KZ40ilxyl",
        "outputId": "a66ccff2-d5d6-4cca-bc24-4f710327c90b"
      },
      "execution_count": null,
      "outputs": [
        {
          "output_type": "stream",
          "name": "stdout",
          "text": [
            "Enter number of hours: 9\n",
            "27.5\n"
          ]
        }
      ]
    },
    {
      "cell_type": "code",
      "source": [
        "#Recursion\n",
        "def reverse(s):\n",
        "  if len(s) == 1:\n",
        "    return s\n",
        "  else:\n",
        "    return s[-1] + reverse(s[1:-1]) + s[0]\n",
        "    return reverse(s[1:]) + s[0]\n",
        "    return s[-1] + reverse(s[:-1])\n",
        "\n",
        "reverse('Hello')"
      ],
      "metadata": {
        "colab": {
          "base_uri": "https://localhost:8080/",
          "height": 35
        },
        "id": "TSNl67zAmAMo",
        "outputId": "77ab3c61-6996-4093-92ec-9181ccee2152"
      },
      "execution_count": null,
      "outputs": [
        {
          "output_type": "execute_result",
          "data": {
            "text/plain": [
              "'olleH'"
            ],
            "application/vnd.google.colaboratory.intrinsic+json": {
              "type": "string"
            }
          },
          "metadata": {},
          "execution_count": 27
        }
      ]
    },
    {
      "cell_type": "code",
      "source": [
        "#Student Class\n",
        "class Student:\n",
        "  def __init__(self, name, number):\n",
        "    self.__name = name\n",
        "    self.number = number\n",
        "    self.__courses = []\n",
        "\n",
        "  def enroll(self,newCourse):\n",
        "    if newCourse not in self.__courses:\n",
        "      self.__courses.append(newCourse)\n",
        "    else:\n",
        "      print(f'You have already enrolled in {newCourse}')\n",
        "\n",
        "  def get_courses(self):\n",
        "    return self.__courses"
      ],
      "metadata": {
        "id": "zesBZwlqmKIf"
      },
      "execution_count": null,
      "outputs": []
    }
  ],
  "metadata": {
    "colab": {
      "provenance": [],
      "authorship_tag": "ABX9TyPYWYA/MR/XYVBFkQIXefxn",
      "include_colab_link": true
    },
    "kernelspec": {
      "display_name": "Python 3",
      "name": "python3"
    },
    "language_info": {
      "name": "python"
    }
  },
  "nbformat": 4,
  "nbformat_minor": 0
}