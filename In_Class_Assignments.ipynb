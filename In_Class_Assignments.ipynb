{
  "nbformat": 4,
  "nbformat_minor": 0,
  "metadata": {
    "colab": {
      "provenance": [],
      "authorship_tag": "ABX9TyOEpk7F5dwvMKSmORvU1T/1",
      "include_colab_link": true
    },
    "kernelspec": {
      "name": "python3",
      "display_name": "Python 3"
    },
    "language_info": {
      "name": "python"
    }
  },
  "cells": [
    {
      "cell_type": "markdown",
      "metadata": {
        "id": "view-in-github",
        "colab_type": "text"
      },
      "source": [
        "<a href=\"https://colab.research.google.com/github/mchagra/BTE320/blob/main/In_Class_Assignments.ipynb\" target=\"_parent\"><img src=\"https://colab.research.google.com/assets/colab-badge.svg\" alt=\"Open In Colab\"/></a>"
      ]
    },
    {
      "cell_type": "code",
      "source": [
        "r = 5\n",
        "π = 3.14\n",
        "\n",
        "area = π*(r**2)\n",
        "print(area)"
      ],
      "metadata": {
        "id": "xr1Bx4kW0yt0",
        "outputId": "51866fdf-a682-404b-f1b4-55379b3cee30",
        "colab": {
          "base_uri": "https://localhost:8080/"
        }
      },
      "execution_count": null,
      "outputs": [
        {
          "output_type": "stream",
          "name": "stdout",
          "text": [
            "78.5\n"
          ]
        }
      ]
    },
    {
      "cell_type": "code",
      "execution_count": null,
      "metadata": {
        "colab": {
          "base_uri": "https://localhost:8080/"
        },
        "id": "XXehkM0Zyk42",
        "outputId": "f22605d3-0fb8-40ef-9382-61ebc4ff74d2"
      },
      "outputs": [
        {
          "output_type": "stream",
          "name": "stdout",
          "text": [
            "244.92000000000002\n"
          ]
        }
      ],
      "source": [
        "π = 3.14\n",
        "r = 3\n",
        "h = 10\n",
        "\n",
        "area = 2*π*r**2 + 2*π*r*h\n",
        "print(area)\n"
      ]
    },
    {
      "cell_type": "code",
      "source": [
        "p1 = input(\"Choose r, p, s\")\n",
        "p2 = input(\"Choose r, p, s\")\n",
        "\n",
        "if p1 = p2\n",
        "  print ('Draw')\n",
        "else(p1 = 'r' and p2 = 's') or (p1 = 's' and p2 = 'p') or (p1 = 'p' and p2 = 'r')\n",
        "  print ('p1 wins')\n",
        "else\n",
        "  print ('p2 wins')"
      ],
      "metadata": {
        "id": "knu5N9Rp1dj_"
      },
      "execution_count": null,
      "outputs": []
    },
    {
      "cell_type": "code",
      "source": [
        "#if we want to do the same as above but one player is the computer choosing randomly\n",
        "import random\n",
        "p1 = input(\"Choose r, p, s\")\n",
        "p2 = random.choice(['r', 'p', 's'])\n",
        "\n",
        "if p1 == p2:\n",
        "  print ('Draw')\n",
        "elif (p1 == 'r' and p2 == 's') or (p1 == 's' and p2 == 'p') or (p1 == 'p' and p2 == 'r'):\n",
        "  print ('p1 wins')\n",
        "else:\n",
        "  print ('p2 wins')"
      ],
      "metadata": {
        "colab": {
          "base_uri": "https://localhost:8080/"
        },
        "id": "wpvusKRU4UFx",
        "outputId": "215ae863-c329-4114-c1f5-82a39290d0ff"
      },
      "execution_count": 15,
      "outputs": [
        {
          "output_type": "stream",
          "name": "stdout",
          "text": [
            "Choose r, p, ss\n",
            "p2 wins\n"
          ]
        }
      ]
    }
  ]
}